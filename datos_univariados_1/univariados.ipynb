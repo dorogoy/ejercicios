{
 "cells": [
  {
   "cell_type": "code",
   "execution_count": 2,
   "metadata": {},
   "outputs": [],
   "source": [
    "%matplotlib inline\n",
    "import os\n",
    "import numpy as np\n",
    "import pandas\n",
    "import matplotlib.pyplot as plt\n"
   ]
  },
  {
   "cell_type": "markdown",
   "metadata": {},
   "source": [
    "Vamos a cargar un conjunto de datos con la función `read_csv` de pandas:"
   ]
  },
  {
   "cell_type": "code",
   "execution_count": 3,
   "metadata": {},
   "outputs": [
    {
     "data": {
      "text/plain": [
       "Index(['seconds'], dtype='object')"
      ]
     },
     "execution_count": 3,
     "metadata": {},
     "output_type": "execute_result"
    }
   ],
   "source": [
    "df = pandas.read_csv('data/index_html.csv')\n",
    "df.keys()"
   ]
  },
  {
   "cell_type": "code",
   "execution_count": 4,
   "metadata": {
    "scrolled": false
   },
   "outputs": [
    {
     "data": {
      "text/plain": [
       "(0.0, 70.0)"
      ]
     },
     "execution_count": 4,
     "metadata": {},
     "output_type": "execute_result"
    },
    {
     "data": {
      "image/png": "[encoded data removed]",
      "text/plain": [
       "<Figure size 432x288 with 1 Axes>"
      ]
     },
     "metadata": {
      "needs_background": "light"
     },
     "output_type": "display_data"
    }
   ],
   "source": [
    "_ = plt.hist(df['seconds'], bins=70, range=[0, 40])\n",
    "plt.xlabel('seconds')\n",
    "plt.ylabel('visits')\n",
    "plt.ylim([0, 70])"
   ]
  },
  {
   "cell_type": "code",
   "execution_count": 5,
   "metadata": {},
   "outputs": [
    {
     "data": {
      "text/plain": [
       "Index(['seconds'], dtype='object')"
      ]
     },
     "execution_count": 5,
     "metadata": {},
     "output_type": "execute_result"
    }
   ],
   "source": [
    "df_caramelo = pandas.read_csv('data/caramelo_html.csv')\n",
    "df_caramelo.keys()"
   ]
  },
  {
   "cell_type": "markdown",
   "metadata": {},
   "source": [
    "El criterio que deberíamos usar para identificar las páginas scrapeadas de las que no lo són es el de observar 2 o más modas, siendo una de ellas claramente de muy corta duración. Un ser humano normal tarda un cierto tiempo en leer una página web mientras que un scrapeo debería ser muy homogeneo.\n",
    "\n",
    "Vamos a intentar observar este fenómeno con los datos que tenemos. Evidentemente en el index no hay información interesante."
   ]
  },
  {
   "cell_type": "markdown",
   "metadata": {},
   "source": [
    "## CARAMELOS"
   ]
  },
  {
   "cell_type": "code",
   "execution_count": 6,
   "metadata": {},
   "outputs": [
    {
     "data": {
      "text/plain": [
       "(0.0, 70.0)"
      ]
     },
     "execution_count": 6,
     "metadata": {},
     "output_type": "execute_result"
    },
    {
     "data": {
      "image/png": "[encoded data removed]",
      "text/plain": [
       "<Figure size 432x288 with 1 Axes>"
      ]
     },
     "metadata": {
      "needs_background": "light"
     },
     "output_type": "display_data"
    }
   ],
   "source": [
    "_ = plt.hist(df_caramelo['seconds'], bins = 70, range = (0, 40,))\n",
    "plt.xlabel('seconds')\n",
    "plt.ylabel('visits')\n",
    "plt.ylim([0, 70])"
   ]
  },
  {
   "cell_type": "markdown",
   "metadata": {},
   "source": [
    "Aquí se aprecian varias modas. La que más me llama la atención sería el grupo de menos de 15 segundos, que está muy diferenciado del resto, pero esto no está nada claro que signifique que es por bots. Los tiempos son demasiado altos."
   ]
  },
  {
   "cell_type": "markdown",
   "metadata": {},
   "source": [
    "## CHICLE"
   ]
  },
  {
   "cell_type": "code",
   "execution_count": 7,
   "metadata": {},
   "outputs": [
    {
     "data": {
      "text/plain": [
       "Index(['seconds'], dtype='object')"
      ]
     },
     "execution_count": 7,
     "metadata": {},
     "output_type": "execute_result"
    }
   ],
   "source": [
    "df_chicle = pandas.read_csv('data/chicle_html.csv')\n",
    "df_chicle.keys()"
   ]
  },
  {
   "cell_type": "code",
   "execution_count": 8,
   "metadata": {},
   "outputs": [
    {
     "data": {
      "text/plain": [
       "(0.0, 70.0)"
      ]
     },
     "execution_count": 8,
     "metadata": {},
     "output_type": "execute_result"
    },
    {
     "data": {
      "image/png": "[encoded data removed]",
      "text/plain": [
       "<Figure size 432x288 with 1 Axes>"
      ]
     },
     "metadata": {
      "needs_background": "light"
     },
     "output_type": "display_data"
    }
   ],
   "source": [
    "_ = plt.hist(df_chicle['seconds'], bins = 70, range = (0, 40,))\n",
    "plt.xlabel('seconds')\n",
    "plt.ylabel('visits')\n",
    "plt.ylim([0, 70])"
   ]
  },
  {
   "cell_type": "markdown",
   "metadata": {},
   "source": [
    "Otra vez podemos apreciar una moda con muy pocos segundos. Esto me indica que tiene pinta de ser un bot, muy claramente ya que hay muchas visitas así."
   ]
  },
  {
   "cell_type": "markdown",
   "metadata": {},
   "source": [
    "## LOLLIPOP"
   ]
  },
  {
   "cell_type": "code",
   "execution_count": 9,
   "metadata": {},
   "outputs": [
    {
     "data": {
      "text/plain": [
       "Index(['seconds'], dtype='object')"
      ]
     },
     "execution_count": 9,
     "metadata": {},
     "output_type": "execute_result"
    }
   ],
   "source": [
    "df_lollipop = pandas.read_csv('data/lollipop_html.csv')\n",
    "df_lollipop.keys()"
   ]
  },
  {
   "cell_type": "code",
   "execution_count": 10,
   "metadata": {},
   "outputs": [
    {
     "data": {
      "text/plain": [
       "(0.0, 70.0)"
      ]
     },
     "execution_count": 10,
     "metadata": {},
     "output_type": "execute_result"
    },
    {
     "data": {
      "image/png": "[encoded data removed]",
      "text/plain": [
       "<Figure size 432x288 with 1 Axes>"
      ]
     },
     "metadata": {
      "needs_background": "light"
     },
     "output_type": "display_data"
    }
   ],
   "source": [
    "_ = plt.hist(df_lollipop['seconds'], bins = 70, range = (0, 40,))\n",
    "plt.xlabel('seconds')\n",
    "plt.ylabel('visits')\n",
    "plt.ylim([0, 70])"
   ]
  },
  {
   "cell_type": "markdown",
   "metadata": {},
   "source": [
    "De nuevo un grupo con menos de 5 segundos, que indica la visita de un bot."
   ]
  },
  {
   "cell_type": "markdown",
   "metadata": {},
   "source": [
    "## MARSHMALLOW"
   ]
  },
  {
   "cell_type": "code",
   "execution_count": 11,
   "metadata": {},
   "outputs": [
    {
     "data": {
      "text/plain": [
       "Index(['seconds'], dtype='object')"
      ]
     },
     "execution_count": 11,
     "metadata": {},
     "output_type": "execute_result"
    }
   ],
   "source": [
    "df_marshmallow = pandas.read_csv('data/marshmallow_html.csv')\n",
    "df_marshmallow.keys()"
   ]
  },
  {
   "cell_type": "code",
   "execution_count": 12,
   "metadata": {},
   "outputs": [
    {
     "data": {
      "text/plain": [
       "(0.0, 70.0)"
      ]
     },
     "execution_count": 12,
     "metadata": {},
     "output_type": "execute_result"
    },
    {
     "data": {
      "image/png": "[encoded data removed]",
      "text/plain": [
       "<Figure size 432x288 with 1 Axes>"
      ]
     },
     "metadata": {
      "needs_background": "light"
     },
     "output_type": "display_data"
    }
   ],
   "source": [
    "_ = plt.hist(df_marshmallow['seconds'], bins = 70, range = (0, 40,))\n",
    "plt.xlabel('seconds')\n",
    "plt.ylabel('visits')\n",
    "plt.ylim([0, 70])"
   ]
  },
  {
   "cell_type": "markdown",
   "metadata": {},
   "source": [
    "Otra vez se observa una moda de visitas con muy pocos segundos de duración, que indica un bot."
   ]
  },
  {
   "cell_type": "markdown",
   "metadata": {},
   "source": [
    "## SUGUS"
   ]
  },
  {
   "cell_type": "code",
   "execution_count": 13,
   "metadata": {},
   "outputs": [
    {
     "data": {
      "text/plain": [
       "Index(['seconds'], dtype='object')"
      ]
     },
     "execution_count": 13,
     "metadata": {},
     "output_type": "execute_result"
    }
   ],
   "source": [
    "df_sugus = pandas.read_csv('data/sugus_html.csv')\n",
    "df_sugus.keys()"
   ]
  },
  {
   "cell_type": "code",
   "execution_count": 14,
   "metadata": {},
   "outputs": [
    {
     "data": {
      "text/plain": [
       "(0.0, 70.0)"
      ]
     },
     "execution_count": 14,
     "metadata": {},
     "output_type": "execute_result"
    },
    {
     "data": {
      "image/png": "[encoded data removed]",
      "text/plain": [
       "<Figure size 432x288 with 1 Axes>"
      ]
     },
     "metadata": {
      "needs_background": "light"
     },
     "output_type": "display_data"
    }
   ],
   "source": [
    "_ = plt.hist(df_sugus['seconds'], bins = 70, range = (0, 40,))\n",
    "plt.xlabel('seconds')\n",
    "plt.ylabel('visits')\n",
    "plt.ylim([0, 70])"
   ]
  },
  {
   "cell_type": "markdown",
   "metadata": {},
   "source": [
    "Apreciamos aquí también varias visitas con menos de 5 segundos que es otro indicio muy claro de bot."
   ]
  },
  {
   "cell_type": "markdown",
   "metadata": {},
   "source": [
    "## GLOBAL"
   ]
  },
  {
   "cell_type": "markdown",
   "metadata": {},
   "source": [
    "Intentaremos representar todas las gráficas al mismo tiempo con los 5 primeros segundos ya que hemos detectado que esa es la franja en la que se mueven los bots."
   ]
  },
  {
   "cell_type": "code",
   "execution_count": 15,
   "metadata": {},
   "outputs": [
    {
     "data": {
      "image/png": "[encoded data removed]",
      "text/plain": [
       "<Figure size 936x576 with 6 Axes>"
      ]
     },
     "metadata": {
      "needs_background": "light"
     },
     "output_type": "display_data"
    }
   ],
   "source": [
    "pages = os.listdir('data/')\n",
    "figure, axes = plt.subplots(nrows=2, ncols=3, figsize=(13, 8,))\n",
    "\n",
    "for i, axe in enumerate(axes.flatten()):\n",
    "    page = pages[i]\n",
    "    \n",
    "    csv_path = \"data/{0}\".format(page)\n",
    "    df = pandas.read_csv(csv_path)\n",
    "    \n",
    "    axe.hist(df['seconds'], bins=50, range=[0, 5])\n",
    "    \n",
    "    axe.set_title(label=page, pad=20)\n",
    "    axe.set_xlabel(\"seconds\")\n",
    "    axe.set_ylabel(\"visits\")\n",
    "    axe.set_ylim([0, 10])\n",
    "\n",
    "figure.tight_layout()\n",
    "\n",
    "_ = plt.show()"
   ]
  },
  {
   "cell_type": "markdown",
   "metadata": {},
   "source": [
    "## Programa para detectar posibles scrapeos"
   ]
  },
  {
   "cell_type": "markdown",
   "metadata": {},
   "source": [
    "podemos escribir un programa que, dado un array de tiempos de permanencia, devuelva True si está siendo scrapeada y False en otro caso?"
   ]
  },
  {
   "cell_type": "code",
   "execution_count": 19,
   "metadata": {},
   "outputs": [
    {
     "name": "stdout",
     "output_type": "stream",
     "text": [
      "chicle_html.csv: True\n",
      "lollipop_html.csv: True\n",
      "index_html.csv: False\n",
      "caramelo_html.csv: False\n",
      "sugus_html.csv: True\n",
      "marshmallow_html.csv: True\n"
     ]
    }
   ],
   "source": [
    "MIN_NUMBER_OF_VISITS = 3\n",
    "MAX_VISIT_EXPRESS_DURATION_IN_SECONDS = 3\n",
    "\n",
    "\n",
    "def is_page_scrapped(visits):\n",
    "    visits_express = list(filter(is_visit_express, visits))\n",
    "    return len(visits_express) >= MIN_NUMBER_OF_VISITS\n",
    "\n",
    "\n",
    "def is_visit_express(duration):\n",
    "    return duration < MAX_VISIT_EXPRESS_DURATION_IN_SECONDS\n",
    "\n",
    "\n",
    "for page in pages:\n",
    "    csv_path = \"data/{0}\".format(page)\n",
    "    df = pandas.read_csv(csv_path)\n",
    "    \n",
    "    scrapped = is_page_scrapped(df['seconds'])\n",
    "    \n",
    "    print(\"{0}: {1}\".format(page, scrapped))"
   ]
  },
  {
   "cell_type": "markdown",
   "metadata": {},
   "source": [
    "## Porcentajes apróximados de bots"
   ]
  },
  {
   "cell_type": "markdown",
   "metadata": {},
   "source": [
    "Para poder hacernos una idea a simple vista de cual es el porcentaje de bots que visitan las páginas, una de las mejores gráficas que podemos representar sería el de barras acumuladas."
   ]
  },
  {
   "cell_type": "code",
   "execution_count": 46,
   "metadata": {},
   "outputs": [
    {
     "data": {
      "image/png": "[encoded data removed]",
      "text/plain": [
       "<Figure size 432x288 with 1 Axes>"
      ]
     },
     "metadata": {
      "needs_background": "light"
     },
     "output_type": "display_data"
    }
   ],
   "source": [
    "BOT_SECONDS_DURATION = 5\n",
    "\n",
    "def is_bot(seconds):\n",
    "    return seconds <= BOT_SECONDS_DURATION\n",
    "\n",
    "\n",
    "def get_bot_visits(visits):\n",
    "    return len(list(filter(is_bot, visits)))\n",
    "\n",
    "\n",
    "labels = []\n",
    "len_bots = []\n",
    "len_other = []\n",
    "\n",
    "for page in pages:\n",
    "    if page != \"index_html.csv\":\n",
    "        csv_path = \"data/{0}\".format(page)\n",
    "        df = pandas.read_csv(csv_path)\n",
    "        bot_visits = get_bot_visits(df['seconds'])\n",
    "        other_visits = len(df['seconds']) - bot_visits\n",
    "\n",
    "        labels.append(page)\n",
    "        len_bots.append(bot_visits)\n",
    "        len_other.append(other_visits)\n",
    "    \n",
    "width = 0.80\n",
    "\n",
    "fig, ax = plt.subplots()\n",
    "\n",
    "ax.bar(labels, len_bots, width, label='Bots')\n",
    "ax.bar(labels, len_other, width, bottom=len_bots,\n",
    "       label='Other')\n",
    "\n",
    "ax.set_ylabel('Visits')\n",
    "ax.set_title('Visits by pages')\n",
    "ax.legend()\n",
    "\n",
    "plt.show()"
   ]
  },
  {
   "cell_type": "markdown",
   "metadata": {},
   "source": [
    "Aquí se puede observar que el porcentaje por visitas de bots es muy pequeño, no llegando ni al 5%."
   ]
  },
  {
   "cell_type": "markdown",
   "metadata": {},
   "source": [
    "## CONCLUSIONES"
   ]
  },
  {
   "cell_type": "markdown",
   "metadata": {},
   "source": [
    "1. Las páginas scrappeadas son: chicle, lollipop, marshmallow y sugus. Usamos como criterio el de identificar una moda que tenga muy pocos segundos de duración.\n",
    "2. Para estimar a mano el número apróximado de visitas de bots debemos crear una gráfica que muestre visitas de bot y visitas normales a escala. En este caso vemos que hay muy pocas visitas de bots."
   ]
  },
  {
   "cell_type": "markdown",
   "metadata": {},
   "source": []
  }
 ],
 "metadata": {
  "kernelspec": {
   "display_name": "Python 3",
   "language": "python",
   "name": "python3"
  },
  "language_info": {
   "codemirror_mode": {
    "name": "ipython",
    "version": 3
   },
   "file_extension": ".py",
   "mimetype": "text/x-python",
   "name": "python",
   "nbconvert_exporter": "python",
   "pygments_lexer": "ipython3",
   "version": "3.8.2"
  }
 },
 "nbformat": 4,
 "nbformat_minor": 4
}
