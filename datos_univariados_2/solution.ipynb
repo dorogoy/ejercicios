{
 "cells": [
  {
   "cell_type": "code",
   "execution_count": null,
   "metadata": {},
   "outputs": [],
   "source": [
    "%matplotlib inline\n",
    "import scipy.stats\n",
    "import numpy as np\n",
    "import matplotlib.pyplot as plt"
   ]
  },
  {
   "cell_type": "markdown",
   "metadata": {},
   "source": [
    "# pregunta 1\n",
    "\n",
    "¿Cuánto es el máximo que podemos llegar a pagar en un día por los servidores?"
   ]
  },
  {
   "cell_type": "code",
   "execution_count": 7,
   "metadata": {},
   "outputs": [
    {
     "name": "stdout",
     "output_type": "stream",
     "text": [
      "El coste máximo a pagar en 1 día es de 700€\n"
     ]
    }
   ],
   "source": [
    "coste_nodo = 130\n",
    "coste_nodo_3up = 110\n",
    "horas_por_nodo = 72\n",
    "num_analistas = 14\n",
    "horas_max_job = 33.1\n",
    "\n",
    "\n",
    "def coste_nodos(nodos_necesarios: int) -> int:\n",
    "    if nodos_necesarios > 2:\n",
    "        coste_nodos_max = (nodos_necesarios - 2) * coste_nodo_3up + (2 * coste_nodo)\n",
    "    else:\n",
    "        coste_nodos_max = nodos_necesarios * coste_nodo\n",
    "    return coste_nodos_max\n",
    "\n",
    "horas_max = num_analistas * horas_max_job\n",
    "nodos_necesarios = round(horas_max / horas_por_nodo)\n",
    "\n",
    "print(\"El coste máximo a pagar en 1 día es de {}€\".format(coste_nodos(nodos_necesarios)))"
   ]
  },
  {
   "cell_type": "markdown",
   "metadata": {},
   "source": [
    "## pregunta 2\n",
    "\n",
    "Pinta un histograma de la distribución de los costes diarios realizando simulaciones de Monte Carlo.\n",
    "\n",
    "¿Cuál es el coste medio por día que esperamos tener que pagar por los servidores, si siempre pagamos todos los servidores que hacen falta en un día dado?"
   ]
  },
  {
   "cell_type": "code",
   "execution_count": null,
   "metadata": {},
   "outputs": [],
   "source": []
  }
 ],
 "metadata": {
  "kernelspec": {
   "display_name": "Python 3",
   "language": "python",
   "name": "python3"
  },
  "language_info": {
   "codemirror_mode": {
    "name": "ipython",
    "version": 3
   },
   "file_extension": ".py",
   "mimetype": "text/x-python",
   "name": "python",
   "nbconvert_exporter": "python",
   "pygments_lexer": "ipython3",
   "version": "3.7.7"
  }
 },
 "nbformat": 4,
 "nbformat_minor": 4
}
