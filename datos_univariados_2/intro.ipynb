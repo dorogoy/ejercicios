{
 "cells": [
  {
   "cell_type": "code",
   "execution_count": 1,
   "metadata": {},
   "outputs": [],
   "source": [
    "%matplotlib inline\n",
    "import scipy.stats\n",
    "import numpy as np\n",
    "import matplotlib.pyplot as plt"
   ]
  },
  {
   "cell_type": "markdown",
   "metadata": {},
   "source": [
    "## Métodos de Monte Carlo\n",
    "\n",
    "Cuando tenemos preguntas sobre procesos, y tenemos modelos de mecanismo de un proceso, podemos usar [métodos de Monte Carlo](https://en.wikipedia.org/wiki/Monte_Carlo_method) para responderlas. Esto es extremadamente potente si ya sabes programar: hay muchas preguntas cuantitativas que son muy fáciles de formular y resolver como un experimento de Monte Carlo, pero muy difíciles de resolver de forma analítica.\n",
    "\n",
    "### Ejemplo introductorio\n",
    "\n",
    "Estamos jugando a cara o cruz con una moneda trucada. La moneda tiene la siguiente distribución de probabilidad:\n",
    "```\n",
    "cara: 0.6\n",
    "cruz: 0.4\n",
    "```\n",
    "\n",
    "Si sale cruz ganas, si sale cara pierdes.\n",
    "\n",
    "##### Pregunta 0\n",
    "\n",
    "**¿Qué proporción de las veces ganas?**\n",
    "\n",
    "Esta respuesta la podemos calcular trivialmente de forma analítica: `0.4`, que es simplemente la proporción de cruces esperada. Pero vamos a calcularla vía un experimento de Monte Carlo para romper mano. \n",
    "\n",
    "Llevamos a cabo \"muchas\" simulaciones de la tirada, y calculamos la proporción de cruces:"
   ]
  },
  {
   "cell_type": "code",
   "execution_count": 2,
   "metadata": {},
   "outputs": [
    {
     "name": "stdout",
     "output_type": "stream",
     "text": [
      "0.39928 error:  0.0007199999999999984\n",
      "0.40024 error:  0.00023999999999996247\n",
      "0.40244 error:  0.0024399999999999977\n"
     ]
    }
   ],
   "source": [
    "def estimate_win_proportion(num_trials: int) -> float:\n",
    "    \"\"\"\n",
    "    cara: 0\n",
    "    cruz: 1\n",
    "    \n",
    "    This simulates num_trials coin tosses and calculates num_cruces / total_tosses\n",
    "    \"\"\"\n",
    "    trials = []\n",
    "    \n",
    "    for i in range(num_trials):\n",
    "        if np.random.random() <= 0.4:\n",
    "            trials.append(1)\n",
    "        else:\n",
    "            trials.append(0)\n",
    "            \n",
    "    return sum(trials) / len(trials)\n",
    "\n",
    "for i in range(3):\n",
    "    proportion_estimate = estimate_win_proportion(50000)\n",
    "    print(proportion_estimate, \"error: \", abs(0.4 - proportion_estimate))"
   ]
  },
  {
   "cell_type": "markdown",
   "metadata": {},
   "source": [
    "Vemos que, efectivamente, la simulación de Monte Carlo nos da respuestas cercanas a la respuesta exacta, aunque en este caso sería más fácil calcular la proporción directamente."
   ]
  },
  {
   "cell_type": "markdown",
   "metadata": {},
   "source": [
    "##### Pregunta 1\n",
    "\n",
    "Usamos la moneda en un juego con las siguientes reglas: la moneda se tira 2 veces, y dependiendo del número de cruces ganas (o pierdes) las siguientes cantidades:\n",
    "\n",
    "| numero cruces | euros |\n",
    "| ------------- | ----- |\n",
    "| 0 | -2 |\n",
    "| 1 | 0.5 |\n",
    "| 2 | 1 |\n",
    "\n",
    "**¿Cuál es [la media](https://en.wikipedia.org/wiki/Expected_value) de euros ganados (o perdidos) por partida si juegas a este juego con la moneda trucada?**"
   ]
  },
  {
   "cell_type": "markdown",
   "metadata": {},
   "source": [
    "Esto también lo podemos calcular de forma analítica usando la [distribución binomial](https://en.wikipedia.org/wiki/Binomial_distribution), pero en este caso ya tenemos que saber más matemáticas:\n",
    "\n",
    "$$\n",
    "expected\\_euros = -2 \\cdot \\binom{2}{0}0.6^{2} + 0.5 \\cdot \\binom{2}{1} 0.4 \\cdot 0.6 + \\binom{2}{2} 0.4 ^ 2\n",
    "$$"
   ]
  },
  {
   "cell_type": "code",
   "execution_count": 3,
   "metadata": {},
   "outputs": [
    {
     "name": "stdout",
     "output_type": "stream",
     "text": [
      "-0.31999999999999995\n"
     ]
    }
   ],
   "source": [
    "exact_expected_euros = -2 * 1 * (0.6 ** 2) + 0.5 * 2 * (0.4 * 0.6) + 1 * 1 * (0.4 ** 2)\n",
    "print(exact_expected_euros)"
   ]
  },
  {
   "cell_type": "markdown",
   "metadata": {},
   "source": [
    "Si sabemos programar pero no usamos mucho las matemáticas en el día a día, igual es más fácil simularlo directamente que hacer el cálculo analítico:"
   ]
  },
  {
   "cell_type": "code",
   "execution_count": 4,
   "metadata": {},
   "outputs": [
    {
     "name": "stdout",
     "output_type": "stream",
     "text": [
      "-0.30394 error:  0.016059999999999963\n",
      "-0.31898 error:  0.0010199999999999654\n",
      "-0.31444 error:  0.005559999999999954\n"
     ]
    }
   ],
   "source": [
    "def one_game() -> int:\n",
    "    \"\"\"\n",
    "    This simulates a single game: a coin is tossed twice, the number of cruces is returned.\n",
    "    \"\"\"\n",
    "    cruz_count = 0\n",
    "    \n",
    "    for i in range(2):\n",
    "        if np.random.random() <= 0.4:\n",
    "            cruz_count += 1\n",
    "    return cruz_count\n",
    "\n",
    "def average_euros(num_trials: int) -> float:\n",
    "    \"\"\"\n",
    "    This simulates num_trials games and calculates total_euros / num_trials\n",
    "    \"\"\"\n",
    "    \n",
    "    euros = []\n",
    "    for i in range(num_trials):\n",
    "        cruz_count = one_game()\n",
    "        if cruz_count == 0:\n",
    "            euros.append(-2)\n",
    "        elif cruz_count == 1:\n",
    "            euros.append(0.5)\n",
    "        else:\n",
    "            euros.append(1)\n",
    "            \n",
    "    return sum(euros) / len(euros)\n",
    "    \n",
    "    \n",
    "for i in range(3):\n",
    "    estimated_expected_euros = average_euros(50000)\n",
    "    print(estimated_expected_euros, \"error: \", abs(estimated_expected_euros - exact_expected_euros))\n",
    "    "
   ]
  },
  {
   "cell_type": "markdown",
   "metadata": {},
   "source": [
    "### Incertidumbre\n",
    "\n",
    "En los ejemplos anteriores hemos hecho trampa: al haber calculado la solución analítica, podíamos calcular el error de la solución de monte carlo.\n",
    "\n",
    "**¿Qué hacemos si no tenemos la solución analítica?**\n",
    "\n",
    "Cuando aplicamos técnicas de monte carlo, [nuestra respuesta tiene que incluir una medida de la magnitud de su incertidumbre](https://en.wikipedia.org/wiki/Measurement_uncertainty). Esto es un tema bastante más complicado de lo que puede parecer en un principio y aplicar métodos sin pensar puede llevar a conclusiones muy erróneas.\n",
    "\n",
    "Pero para empezar, cuando buscamos una respuesta numérica procedemos como procederíamos en un experimento normal:\n",
    "\n",
    "1. Ejecutamos varias veces la simulación de monte carlo, sacando un conjunto de respuestas\n",
    "2. Damos el resultado como la media y la [desviación típica](https://en.wikipedia.org/wiki/Standard_deviation) de este conjunto de resultados: esto nos da una caracterización de dónde esperamos que esté nuestro resultado y cuán disperso es.\n",
    "\n",
    "Por ejemplo:\n",
    "\n"
   ]
  },
  {
   "cell_type": "code",
   "execution_count": 5,
   "metadata": {},
   "outputs": [
    {
     "name": "stdout",
     "output_type": "stream",
     "text": [
      "result: -0.3214 ± 0.0055\n"
     ]
    }
   ],
   "source": [
    "coin_experiment = []\n",
    "\n",
    "for i in range(10):\n",
    "    coin_experiment.append(average_euros(50000))\n",
    "    \n",
    "coin_experiment = np.array(coin_experiment)\n",
    "coin_experiment_mean = coin_experiment.mean()\n",
    "coin_experiment_std = coin_experiment.std()\n",
    "\n",
    "print(\"result: {0:.4f} ± {1:.4f}\".format(coin_experiment_mean, coin_experiment_std))"
   ]
  },
  {
   "cell_type": "markdown",
   "metadata": {},
   "source": [
    "#### ¿Qué estamos haciendo cuando damos como resultado la media y la desviación típica?\n",
    "\n",
    "Cuando reportamos el resultado de esta manera, nos podemos imaginar la incertidumbre de nuestro resultado como una distribución normal alrededor del valor medio con la desviación típica dada.\n",
    "\n",
    "Si visualizamos el resultado del coin_experiment de esta manera, con los experimentos individuales como puntos rojos y la distribución en azul, queda claro: la media y la desviación típica caracterizan la distribución, que es una especie de resumen de los datos experimentales:"
   ]
  },
  {
   "cell_type": "code",
   "execution_count": 6,
   "metadata": {},
   "outputs": [
    {
     "data": {
      "image/png": "[encoded data removed]",
      "text/plain": [
       "<Figure size 432x288 with 1 Axes>"
      ]
     },
     "metadata": {
      "needs_background": "light"
     },
     "output_type": "display_data"
    }
   ],
   "source": [
    "x = np.linspace(coin_experiment_mean - 4 * coin_experiment_std, coin_experiment_mean + 4 * coin_experiment_std)\n",
    "y = scipy.stats.norm.pdf(x, loc=coin_experiment_mean, scale=coin_experiment_std)\n",
    "plt.plot(x, y)\n",
    "plt.plot(coin_experiment, [0 for _ in coin_experiment], 'ro')\n",
    "plt.xlabel(\"estimated expected euros\")\n",
    "_ = plt.ylabel(\"probability density\")"
   ]
  },
  {
   "cell_type": "markdown",
   "metadata": {},
   "source": [
    "### Preguntas de calentamiento\n",
    "\n",
    "Consideramos un juego con 2 dados de 6 caras: el dado `a` es justo, el dado `b` tiene un sesgo que hace que aparezca más veces el 6 que los otros números, la tabla siguiente da las probabilidades:\n",
    "\n",
    "| dado | 1 | 2 | 3 | 4 | 5 | 6 |\n",
    "| ---- | - | - | - | - | - | - |\n",
    "| a | 1/6 | 1/6 | 1/6 | 1/6 | 1/6 | 1/6 |\n",
    "| b | 1/12 | 1/12 | 1/12 | 1/12 | 1/12 | 7/12 |\n",
    "\n",
    "Consideramos la suma resultante de tirar `a` y `b` y sumarlos.\n",
    "\n",
    "#### Pregunta 1\n",
    "\n",
    "Jugamos a un juego en el que el jugador gana si saca más de un 8 y pierde si saca menos.\n",
    "\n",
    "**¿Qué proporción de las veces esperas ganar si juegas a este juego con los dados a y b?**"
   ]
  },
  {
   "cell_type": "markdown",
   "metadata": {},
   "source": [
    "##### Respuesta 1"
   ]
  },
  {
   "cell_type": "code",
   "execution_count": 7,
   "metadata": {},
   "outputs": [
    {
     "name": "stdout",
     "output_type": "stream",
     "text": [
      "0.48\n",
      "0.4868\n",
      "0.4608\n"
     ]
    }
   ],
   "source": [
    "def dices_roll() -> int:\n",
    "    if np.random.random() <= (7/12):\n",
    "        dice2 = 6\n",
    "    else:\n",
    "        dice2 = np.random.randint(1, 6)\n",
    "    dice1 = np.random.randint(1, 7)\n",
    "            \n",
    "    return dice1 + dice2\n",
    "\n",
    "\n",
    "def roll(trials: int) -> int:\n",
    "    eight_or_more = 0\n",
    "    for i in range(trials):\n",
    "        if dices_roll() > 8:\n",
    "            eight_or_more += 1\n",
    "    return eight_or_more / trials\n",
    "\n",
    "for i in range(3):\n",
    "    print(roll(5000))"
   ]
  },
  {
   "cell_type": "markdown",
   "metadata": {},
   "source": [
    "#### Pregunta 2\n",
    "\n",
    "Pintar histogramas del resultado de las sumas de estos dados cuando se ejecutan simulaciones de Monte Carlo de 10, 100, y 10000 tiradas.\n",
    "\n",
    "Pensar en lo que quiere decir esto:\n",
    "* ¿Cuanto se parecen entre sí dos histogramas de 10 tiradas distintos?\n",
    "* ¿Cuanto se parecen entre sí dos histogramas de 10000 tiradas distintos?\n",
    "* Hemos caracterizado los dados `a` y `b` como tablas de valores y sus probabilidades. Pinta una tabla que haga lo mismo para los valores de la suma de a y b:\n",
    "\n",
    "| 2 | 3 | 4 | 5 | 6 | 7 | 8 | 9 | 10 | 11 | 12 |\n",
    "| - | - | - | - | - | - | - | - | -- | -- | -- |\n",
    "| ? | ? | ? | ? | ? | ? | ? | ? | ? | ? | ? |"
   ]
  },
  {
   "cell_type": "code",
   "execution_count": 8,
   "metadata": {},
   "outputs": [
    {
     "name": "stdout",
     "output_type": "stream",
     "text": [
      "result: 0.5500 ± 0.1628\n"
     ]
    }
   ],
   "source": [
    "def monte_carlo(trials:int):\n",
    "    experiment = []\n",
    "\n",
    "    for i in range(trials):\n",
    "        experiment.append(roll(10))\n",
    "\n",
    "    experiment_np = np.array(experiment)\n",
    "    experiment_mean = experiment_np.mean()\n",
    "    experiment_std = experiment_np.std()\n",
    "    \n",
    "    return experiment_mean, experiment_std, experiment_np, experiment\n",
    "\n",
    "monte_carlo_10_mean, monte_carlo_10_std, monte_carlo_10, monte_carlo_10_clean = monte_carlo(10)\n",
    "\n",
    "print(\"result: {0:.4f} ± {1:.4f}\".format(monte_carlo_10_mean, monte_carlo_10_std))"
   ]
  },
  {
   "cell_type": "code",
   "execution_count": 9,
   "metadata": {},
   "outputs": [
    {
     "data": {
      "image/png": "[encoded data removed]",
      "text/plain": [
       "<Figure size 432x288 with 1 Axes>"
      ]
     },
     "metadata": {
      "needs_background": "light"
     },
     "output_type": "display_data"
    }
   ],
   "source": [
    "x = np.linspace(monte_carlo_10_mean - 4 * monte_carlo_10_std, monte_carlo_10_mean + 4 * monte_carlo_10_std)\n",
    "y = scipy.stats.norm.pdf(x, loc=monte_carlo_10_mean, scale=monte_carlo_10_std)\n",
    "plt.plot(x, y)\n",
    "plt.plot(monte_carlo_10, [0 for _ in monte_carlo_10], 'ro')\n",
    "plt.xlabel(\"rolls\")\n",
    "_ = plt.ylabel(\"probability density\")"
   ]
  },
  {
   "cell_type": "code",
   "execution_count": 10,
   "metadata": {},
   "outputs": [
    {
     "name": "stdout",
     "output_type": "stream",
     "text": [
      "result: 0.4490 ± 0.1425\n"
     ]
    }
   ],
   "source": [
    "monte_carlo_100_mean, monte_carlo_100_std, monte_carlo_100, monte_carlo_100_clean = monte_carlo(100)\n",
    "\n",
    "print(\"result: {0:.4f} ± {1:.4f}\".format(monte_carlo_100_mean, monte_carlo_100_std))"
   ]
  },
  {
   "cell_type": "code",
   "execution_count": 11,
   "metadata": {},
   "outputs": [
    {
     "data": {
      "image/png": "[encoded data removed]",
      "text/plain": [
       "<Figure size 432x288 with 1 Axes>"
      ]
     },
     "metadata": {
      "needs_background": "light"
     },
     "output_type": "display_data"
    }
   ],
   "source": [
    "x = np.linspace(monte_carlo_100_mean - 4 * monte_carlo_100_std, monte_carlo_100_mean + 4 * monte_carlo_100_std)\n",
    "y = scipy.stats.norm.pdf(x, loc=monte_carlo_100_mean, scale=monte_carlo_100_std)\n",
    "plt.plot(x, y)\n",
    "plt.plot(monte_carlo_100, [0 for _ in monte_carlo_100], 'ro')\n",
    "plt.xlabel(\"rolls\")\n",
    "_ = plt.ylabel(\"probability density\")"
   ]
  },
  {
   "cell_type": "code",
   "execution_count": 12,
   "metadata": {},
   "outputs": [
    {
     "name": "stdout",
     "output_type": "stream",
     "text": [
      "result: 0.4826 ± 0.1535\n"
     ]
    }
   ],
   "source": [
    "monte_carlo_1000_mean, monte_carlo_1000_std, monte_carlo_1000, monte_carlo_1000_clean = monte_carlo(1000)\n",
    "\n",
    "print(\"result: {0:.4f} ± {1:.4f}\".format(monte_carlo_1000_mean, monte_carlo_1000_std))"
   ]
  },
  {
   "cell_type": "code",
   "execution_count": 13,
   "metadata": {},
   "outputs": [
    {
     "data": {
      "image/png": "[encoded data removed]",
      "text/plain": [
       "<Figure size 432x288 with 1 Axes>"
      ]
     },
     "metadata": {
      "needs_background": "light"
     },
     "output_type": "display_data"
    }
   ],
   "source": [
    "x = np.linspace(monte_carlo_1000_mean - 4 * monte_carlo_1000_std, monte_carlo_1000_mean + 4 * monte_carlo_1000_std)\n",
    "y = scipy.stats.norm.pdf(x, loc=monte_carlo_1000_mean, scale=monte_carlo_1000_std)\n",
    "plt.plot(x, y)\n",
    "plt.plot(monte_carlo_1000, [0 for _ in monte_carlo_1000], 'ro')\n",
    "plt.xlabel(\"rolls\")\n",
    "_ = plt.ylabel(\"probability density\")"
   ]
  },
  {
   "cell_type": "code",
   "execution_count": null,
   "metadata": {},
   "outputs": [],
   "source": []
  }
 ],
 "metadata": {
  "kernelspec": {
   "display_name": "Python 3",
   "language": "python",
   "name": "python3"
  },
  "language_info": {
   "codemirror_mode": {
    "name": "ipython",
    "version": 3
   },
   "file_extension": ".py",
   "mimetype": "text/x-python",
   "name": "python",
   "nbconvert_exporter": "python",
   "pygments_lexer": "ipython3",
   "version": "3.7.7"
  }
 },
 "nbformat": 4,
 "nbformat_minor": 4
}
